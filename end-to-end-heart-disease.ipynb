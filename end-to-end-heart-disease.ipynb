{
 "cells": [
  {
   "cell_type": "markdown",
   "id": "7507a17f-31fa-4c3e-b27d-be078ba96a43",
   "metadata": {},
   "source": [
    "#  Predicting heart disease using machine learning \n",
    "This notebook looks into various Python-based machine learning and data science libraries in an attempt to build a machine learninbg nodel capable of predicting when someone has heart disease based on their medical attributes. "
   ]
  },
  {
   "cell_type": "code",
   "execution_count": null,
   "id": "df326460",
   "metadata": {},
   "outputs": [],
   "source": []
  }
 ],
 "metadata": {
  "kernelspec": {
   "display_name": "Python 3 (ipykernel)",
   "language": "python",
   "name": "python3"
  },
  "language_info": {
   "codemirror_mode": {
    "name": "ipython",
    "version": 3
   },
   "file_extension": ".py",
   "mimetype": "text/x-python",
   "name": "python",
   "nbconvert_exporter": "python",
   "pygments_lexer": "ipython3",
   "version": "3.11.7"
  }
 },
 "nbformat": 4,
 "nbformat_minor": 5
}
